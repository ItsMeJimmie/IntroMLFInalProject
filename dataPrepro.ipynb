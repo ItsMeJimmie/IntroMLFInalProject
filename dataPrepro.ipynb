{
 "cells": [
  {
   "cell_type": "code",
   "execution_count": 1,
   "id": "b87fb11f-3e2f-4fc1-92ed-b49185956f21",
   "metadata": {},
   "outputs": [],
   "source": [
    "import os\n",
    "import numpy as np\n",
    "import pandas as pd\n",
    "import re\n",
    "import matplotlib.pyplot as plt\n",
    "import cv2\n",
    "import tensorflow as tf\n",
    "\n",
    "class TerrainDataset:\n",
    "    def __init__(self, dataset_dir):\n",
    "        self.dataset_dir = dataset_dir\n",
    "\n",
    "        # List all files and sort by suffix\n",
    "        all_files = os.listdir(dataset_dir)\n",
    "        self.height_images = sorted([file for file in all_files if file.endswith(\"_h.png\")])\n",
    "        self.separation_images = sorted([file for file in all_files if file.endswith(\"_i2.png\")])\n",
    "        self.terrain_images = sorted([file for file in all_files if file.endswith(\"_t.png\")])\n",
    "\n",
    "        # Debug: print counts\n",
    "        print(f\"Found {len(self.height_images)} height images\")\n",
    "        print(f\"Found {len(self.separation_images)} separation images\")\n",
    "        print(f\"Found {len(self.terrain_images)} terrain images\")\n",
    "\n",
    "        # Ensure all lists have the same length\n",
    "        if not (len(self.height_images) == len(self.separation_images) == len(self.terrain_images)):\n",
    "            raise ValueError(\"Mismatch in the number of height, separation, and terrain images.\")\n",
    "\n",
    "    def __len__(self):\n",
    "        return len(self.height_images)\n",
    "\n",
    "    def __getitem__(self, index):\n",
    "        # Construct paths for images\n",
    "        height_path = os.path.join(self.dataset_dir, self.height_images[index])\n",
    "        separation_path = os.path.join(self.dataset_dir, self.separation_images[index])\n",
    "        terrain_path = os.path.join(self.dataset_dir, self.terrain_images[index])\n",
    "\n",
    "        # Load images\n",
    "        height_image = cv2.imread(height_path, cv2.IMREAD_GRAYSCALE)  # Grayscale\n",
    "        separation_image = cv2.imread(separation_path, cv2.IMREAD_GRAYSCALE)  # Grayscale\n",
    "        terrain_image = cv2.imread(terrain_path, cv2.IMREAD_COLOR)  # Color\n",
    "\n",
    "        # Resize images \n",
    "        shape = 128  # Example size\n",
    "        height_image = cv2.resize(height_image, (shape, shape))\n",
    "        separation_image = cv2.resize(separation_image, (shape, shape))\n",
    "        terrain_image = cv2.resize(terrain_image, (shape, shape))\n",
    "\n",
    "        # Return images\n",
    "        return height_image, separation_image, terrain_image\n",
    "\n",
    "\n"
   ]
  },
  {
   "cell_type": "code",
   "execution_count": 3,
   "id": "17cb4c78-7580-45ba-a6ef-eb4be3cf675f",
   "metadata": {},
   "outputs": [
    {
     "name": "stdout",
     "output_type": "stream",
     "text": [
      "Found 5000 height images\n",
      "Found 5000 separation images\n",
      "Found 5000 terrain images\n"
     ]
    }
   ],
   "source": [
    "# Example Usage\n",
    "dataset_dir = \"earth-terrain-height-and-segmentation-map-images\"  # Replace with your dataset path\n",
    "dataset = TerrainDataset(dataset_dir)\n",
    "\n"
   ]
  },
  {
   "cell_type": "code",
   "execution_count": 4,
   "id": "096aab83-a355-43f9-a6f6-65e66aa1226b",
   "metadata": {},
   "outputs": [
    {
     "name": "stdout",
     "output_type": "stream",
     "text": [
      "First item shapes: [(128, 128), (128, 128), (128, 128, 3)]\n"
     ]
    }
   ],
   "source": [
    "\n",
    "# Debug: Print first item\n",
    "first_item = dataset[0]\n",
    "print(\"First item shapes:\", [img.shape for img in first_item])\n"
   ]
  },
  {
   "cell_type": "code",
   "execution_count": null,
   "id": "eed13419-54ec-43b3-ad21-84b7d620e05d",
   "metadata": {},
   "outputs": [],
   "source": []
  }
 ],
 "metadata": {
  "kernelspec": {
   "display_name": "Python 3 (ipykernel)",
   "language": "python",
   "name": "python3"
  },
  "language_info": {
   "codemirror_mode": {
    "name": "ipython",
    "version": 3
   },
   "file_extension": ".py",
   "mimetype": "text/x-python",
   "name": "python",
   "nbconvert_exporter": "python",
   "pygments_lexer": "ipython3",
   "version": "3.12.4"
  }
 },
 "nbformat": 4,
 "nbformat_minor": 5
}
