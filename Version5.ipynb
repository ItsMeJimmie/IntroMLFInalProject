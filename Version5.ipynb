{
 "cells": [
  {
   "cell_type": "code",
   "execution_count": 1,
   "id": "4fe15a5d-2f33-4138-9880-a0380d45e28d",
   "metadata": {},
   "outputs": [
    {
     "name": "stdout",
     "output_type": "stream",
     "text": [
      "Processing batch: 1 to 500\n",
      "Processing batch: 501 to 1000\n"
     ]
    }
   ],
   "source": [
    "import os\n",
    "import numpy as np\n",
    "from skimage.io import imread\n",
    "from skimage.transform import resize\n",
    "from sklearn.model_selection import train_test_split\n",
    "from sklearn.ensemble import RandomForestClassifier\n",
    "from sklearn.metrics import classification_report\n",
    "from sklearn.preprocessing import StandardScaler\n",
    "\n",
    "# Path to folder containing the images\n",
    "image_folder = \"earth-terrain-height-and-segmentation-map-images\"\n",
    "\n",
    "# Define RGB-to-label mapping for segmentation map\n",
    "terrain_classes = {\n",
    "    (17, 141, 215): 0,  # Water\n",
    "    (225, 227, 155): 1,  # Grassland\n",
    "    (127, 173, 123): 2,  # Forest\n",
    "    (185, 122, 87): 3,  # Hills\n",
    "    (230, 200, 181): 4,  # Desert\n",
    "    (150, 150, 150): 5,  # Mountain\n",
    "    (193, 190, 175): 6   # Tundra\n",
    "}\n",
    "\n",
    "# Helper function to load and preprocess a single image set\n",
    "def load_and_preprocess(base_name, image_size=(64, 64)):\n",
    "    # Build file paths\n",
    "    terrain_path = os.path.join(image_folder, f'{base_name}_t.png')\n",
    "    height_path = os.path.join(image_folder, f'{base_name}_h.png')\n",
    "    segmentation_path = os.path.join(image_folder, f'{base_name}_i2.png')\n",
    "    \n",
    "    # Load images\n",
    "    terrain_image = imread(terrain_path)\n",
    "    height_image = imread(height_path)\n",
    "    segmentation_image = imread(segmentation_path)\n",
    "    \n",
    "    # Resize images\n",
    "    terrain_image = resize(terrain_image, image_size, anti_aliasing=True, preserve_range=True).astype('uint8')\n",
    "    height_image = resize(height_image, image_size, anti_aliasing=True, preserve_range=True).astype('uint16')\n",
    "    segmentation_image = resize(segmentation_image, image_size, anti_aliasing=True, preserve_range=True).astype('uint8')\n",
    "    \n",
    "    # Convert segmentation map to labels\n",
    "    labels = np.apply_along_axis(\n",
    "        lambda rgb: terrain_classes.get(tuple(rgb), -1), 2, segmentation_image\n",
    "    ).flatten()\n",
    "    \n",
    "    # Filter out invalid labels (-1)\n",
    "    valid_idx = labels != -1\n",
    "    \n",
    "    # Flatten and filter features\n",
    "    terrain_flat = terrain_image.reshape(-1, terrain_image.shape[-1])[valid_idx]\n",
    "    height_flat = height_image.flatten()[valid_idx]\n",
    "\n",
    "    # Creating the 4D representation of [R, G, B, Height]\n",
    "    features = np.hstack([terrain_flat, height_flat.reshape(-1, 1)])\n",
    "    \n",
    "    return features, labels[valid_idx]\n",
    "\n",
    "# Function to process images in batches\n",
    "def process_in_batches(batch_start, batch_end, image_size=(64, 64)):\n",
    "    batch_features = []\n",
    "    batch_labels = []\n",
    "    for i in range(batch_start, batch_end + 1):\n",
    "        base_name = f\"{str(i).zfill(4)}\"\n",
    "        try:\n",
    "            # Load and preprocess\n",
    "            features, labels = load_and_preprocess(base_name, image_size=image_size)\n",
    "            batch_features.append(features)\n",
    "            batch_labels.append(labels)\n",
    "        except FileNotFoundError:\n",
    "            print(f\"Image set {base_name} not found, skipping.\")\n",
    "        except Exception as e:\n",
    "            print(f\"Error processing {base_name}: {e}\")\n",
    "    # Combine batch into numpy arrays\n",
    "    return np.vstack(batch_features), np.hstack(batch_labels)\n",
    "\n",
    "# Process images in manageable batches\n",
    "batch_size = 500  # Number of images per batch\n",
    "total_images = 1000  # Total number of images\n",
    "X = []\n",
    "y = []\n",
    "\n",
    "for batch_start in range(1, total_images + 1, batch_size):\n",
    "    batch_end = min(batch_start + batch_size - 1, total_images)\n",
    "    print(f\"Processing batch: {batch_start} to {batch_end}\")\n",
    "    batch_X, batch_y = process_in_batches(batch_start, batch_end)\n",
    "    X.append(batch_X)\n",
    "    y.append(batch_y)\n",
    "\n",
    "# Convert to single numpy arrays\n",
    "X = np.vstack(X)\n",
    "y = np.hstack(y)\n",
    "\n",
    "# Normalize features\n",
    "scaler = StandardScaler()\n",
    "X = scaler.fit_transform(X)\n",
    "\n",
    "# Split dataset into training and testing sets\n",
    "X_train, X_test, y_train, y_test = train_test_split(X, y, test_size=0.2, random_state=42)"
   ]
  },
  {
   "cell_type": "code",
   "execution_count": null,
   "id": "294a92fa-6db0-4568-b888-89b9d12bf149",
   "metadata": {},
   "outputs": [],
   "source": []
  },
  {
   "cell_type": "code",
   "execution_count": 3,
   "id": "afe1c918-1ef9-4d55-8f18-5b3642b5b673",
   "metadata": {},
   "outputs": [
    {
     "name": "stdout",
     "output_type": "stream",
     "text": [
      "Training with k=1...\n",
      "k=1, Accuracy=0.9954\n",
      "Training with k=2...\n",
      "k=2, Accuracy=0.9950\n",
      "Training with k=3...\n",
      "k=3, Accuracy=0.9962\n",
      "Training with k=4...\n",
      "k=4, Accuracy=0.9962\n",
      "Training with k=5...\n",
      "k=5, Accuracy=0.9963\n",
      "Training with k=6...\n",
      "k=6, Accuracy=0.9963\n",
      "Training with k=7...\n",
      "k=7, Accuracy=0.9963\n",
      "Training with k=8...\n",
      "k=8, Accuracy=0.9963\n",
      "Training with k=9...\n",
      "k=9, Accuracy=0.9963\n",
      "Training with k=10...\n",
      "k=10, Accuracy=0.9963\n",
      "Training with k=11...\n",
      "k=11, Accuracy=0.9963\n",
      "Training with k=12...\n",
      "k=12, Accuracy=0.9963\n",
      "Training with k=13...\n",
      "k=13, Accuracy=0.9963\n",
      "Training with k=14...\n",
      "k=14, Accuracy=0.9963\n"
     ]
    }
   ],
   "source": [
    "from sklearn.neighbors import KNeighborsClassifier\n",
    "from sklearn.metrics import accuracy_score, precision_score, recall_score, f1_score\n",
    "\n",
    "\n",
    "# Training loop with debug statements\n",
    "acc = []\n",
    "k_value = []\n",
    "\n",
    "for k in range(1, 15):\n",
    "    print(f\"Training with k={k}...\")\n",
    "    knn = KNeighborsClassifier(n_neighbors=k)\n",
    "    knn.fit(X_train, y_train)\n",
    "    y_pred = knn.predict(X_test)\n",
    "    acc_value = accuracy_score(y_test, y_pred)\n",
    "    acc.append(acc_value)\n",
    "    k_value.append(k)\n",
    "    print(f\"k={k}, Accuracy={acc_value:.4f}\")\n",
    "\n"
   ]
  },
  {
   "cell_type": "code",
   "execution_count": 4,
   "id": "94f18496-1ef3-4e55-9eb2-f4e36f9f4587",
   "metadata": {},
   "outputs": [
    {
     "data": {
      "image/png": "[encoded data removed]",
      "text/plain": [
       "<Figure size 640x480 with 1 Axes>"
      ]
     },
     "metadata": {},
     "output_type": "display_data"
    }
   ],
   "source": [
    "import matplotlib.pyplot as plt\n",
    "\n",
    "# Plot results\n",
    "indices = np.arange(1, 15)\n",
    "plt.plot(indices, acc, \"b-\")\n",
    "plt.xlabel(\"Value of k\", fontsize=14)\n",
    "plt.ylabel(\"ACC\", fontsize=14, rotation=0)\n",
    "plt.axis([0, 15, 0, 1])  # Adjusted plot range\n",
    "plt.show()\n"
   ]
  },
  {
   "cell_type": "code",
   "execution_count": 8,
   "id": "d99b8eba-76f8-4436-abd5-7537470d0cce",
   "metadata": {},
   "outputs": [
    {
     "data": {
      "text/plain": [
       "Text(0, 0.5, 'Percent Error')"
      ]
     },
     "execution_count": 8,
     "metadata": {},
     "output_type": "execute_result"
    },
    {
     "data": {
      "image/png": "[encoded data removed]",
      "text/plain": [
       "<Figure size 640x480 with 1 Axes>"
      ]
     },
     "metadata": {},
     "output_type": "display_data"
    }
   ],
   "source": [
    "percent_error = [(1 - acc1) * 100 for acc1 in acc]\n",
    "plt.plot(k_value, percent_error, marker='o')\n",
    "plt.ylabel(\"Percent Error\")\n"
   ]
  },
  {
   "cell_type": "code",
   "execution_count": null,
   "id": "7bbcddbd-743a-4c29-a5c5-26c1a4a9c0cb",
   "metadata": {},
   "outputs": [],
   "source": []
  },
  {
   "cell_type": "code",
   "execution_count": null,
   "id": "749c9c64-1c71-4a01-8334-a4862c086363",
   "metadata": {},
   "outputs": [],
   "source": []
  },
  {
   "cell_type": "code",
   "execution_count": null,
   "id": "06a57d0e-02b4-4cc2-9ad5-22977b741c83",
   "metadata": {},
   "outputs": [],
   "source": []
  },
  {
   "cell_type": "code",
   "execution_count": null,
   "id": "b3daedc8-12bc-4bb3-b062-ad2b23e22726",
   "metadata": {},
   "outputs": [],
   "source": []
  }
 ],
 "metadata": {
  "kernelspec": {
   "display_name": "Python 3 (ipykernel)",
   "language": "python",
   "name": "python3"
  },
  "language_info": {
   "codemirror_mode": {
    "name": "ipython",
    "version": 3
   },
   "file_extension": ".py",
   "mimetype": "text/x-python",
   "name": "python",
   "nbconvert_exporter": "python",
   "pygments_lexer": "ipython3",
   "version": "3.12.4"
  }
 },
 "nbformat": 4,
 "nbformat_minor": 5
}
